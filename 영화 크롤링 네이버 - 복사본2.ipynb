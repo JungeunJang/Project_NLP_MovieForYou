{
 "cells": [
  {
   "cell_type": "code",
   "execution_count": 1,
   "metadata": {},
   "outputs": [],
   "source": [
    "import sys\n",
    "import os\n",
    "import pandas as pd\n",
    "import numpy as np\n",
    "\n",
    "from bs4 import BeautifulSoup\n",
    "from selenium import webdriver\n",
    "import time\n",
    "import tqdm\n",
    "from tqdm.notebook import tqdm\n",
    "import re"
   ]
  },
  {
   "cell_type": "code",
   "execution_count": 3,
   "metadata": {},
   "outputs": [],
   "source": [
    "data = pd.read_excel('moviedata.xlsx')"
   ]
  },
  {
   "cell_type": "code",
   "execution_count": 19,
   "metadata": {},
   "outputs": [
    {
     "data": {
      "text/plain": [
       "'카오산 탱고'"
      ]
     },
     "execution_count": 19,
     "metadata": {},
     "output_type": "execute_result"
    }
   ],
   "source": [
    "list(data['영화명'])[0]"
   ]
  },
  {
   "cell_type": "code",
   "execution_count": 4,
   "metadata": {},
   "outputs": [],
   "source": [
    "#query_txt = list(data['영화명'])\n",
    "start_date=\"20100101\"\n",
    "end_date=\"20200718\"\n",
    "#q = '\"영화\"'"
   ]
  },
  {
   "cell_type": "code",
   "execution_count": 5,
   "metadata": {
    "scrolled": true
   },
   "outputs": [
    {
     "data": {
      "application/vnd.jupyter.widget-view+json": {
       "model_id": "749e24980fff4d6ca8efcfec0abba842",
       "version_major": 2,
       "version_minor": 0
      },
      "text/plain": [
       "HBox(children=(FloatProgress(value=0.0, max=1.0), HTML(value='')))"
      ]
     },
     "metadata": {},
     "output_type": "display_data"
    },
    {
     "data": {
      "application/vnd.jupyter.widget-view+json": {
       "model_id": "d5cfbe8994094f328ccfa4ebc74dccf0",
       "version_major": 2,
       "version_minor": 0
      },
      "text/plain": [
       "HBox(children=(FloatProgress(value=0.0, max=1.0), HTML(value='')))"
      ]
     },
     "metadata": {},
     "output_type": "display_data"
    },
    {
     "name": "stdout",
     "output_type": "stream",
     "text": [
      "\n",
      "\n",
      "url갯수:  10\n",
      "title갯수:  82380\n"
     ]
    },
    {
     "data": {
      "application/vnd.jupyter.widget-view+json": {
       "model_id": "4453c04a543d4ba89a31ff9f32230b34",
       "version_major": 2,
       "version_minor": 0
      },
      "text/plain": [
       "HBox(children=(FloatProgress(value=0.0, max=10.0), HTML(value='')))"
      ]
     },
     "metadata": {},
     "output_type": "display_data"
    },
    {
     "name": "stdout",
     "output_type": "stream",
     "text": [
      "\n"
     ]
    },
    {
     "data": {
      "text/plain": [
       "{'content': ''}"
      ]
     },
     "execution_count": 5,
     "metadata": {},
     "output_type": "execute_result"
    }
   ],
   "source": [
    "path = 'chromedriver.exe'\n",
    "# options = webdriver.ChromeOptions()\n",
    "# options.add_argument('headless')    # 웹 브라우저를 띄우지 않는 headless chrome 옵션 적용\n",
    "# options.add_argument('disable-gpu')    # GPU 사용 안함\n",
    "# options.add_argument('lang=ko_KR')    # 언어 설정, options=options\n",
    "# driver = webdriver.Chrome('chromedriver', options=options)\n",
    "\n",
    "\n",
    "\n",
    "driver = webdriver.Chrome(path)#, options=options)\n",
    "driver.get('http://www.naver.com')\n",
    "time.sleep(2)\n",
    "# 네이버 검색창에 검색어 검색\n",
    "element = driver.find_element_by_id('query')\n",
    "element.send_keys(\"영화 \", list(data['영화명'])[0])  # query_txt는 위에서 입력한 '영화 리뷰'\n",
    "element.submit()\n",
    "\n",
    "# 블로그 카테고리 선택\n",
    "driver.find_element_by_link_text('블로그').click()\n",
    "\n",
    "# 검색옵션 버튼 클릭\n",
    "\n",
    "driver.find_element_by_id('_search_option_btn').click()\n",
    "    \n",
    "#날짜 입력\n",
    "driver.find_element_by_xpath(\"\"\"//*[@id=\"snb\"]/div/ul/li[2]/a\"\"\").click()\n",
    "time.sleep(2)\n",
    "\n",
    "#날짜 입력\n",
    "s_date = driver.find_element_by_xpath(\"\"\"//*[@id=\"blog_input_period_begin\"]\"\"\")     \n",
    "driver.find_element_by_xpath(\"\"\"//*[@id=\"blog_input_period_begin\"]\"\"\").click()\n",
    "s_date.clear()  # 날짜 입력 부분에 기존에 입력되어 있던 날짜를 제거합니다. \n",
    "time.sleep(1)\n",
    "    \n",
    "# 아래 코드가 날짜를 for 반복문으로 1 글자씩 입력\n",
    "for c in start_date:\n",
    "    s_date.send_keys(c)\n",
    "    time.sleep(0.1)\n",
    "\n",
    "# 종료 날짜 입력\n",
    "e_date = driver.find_element_by_xpath(\"\"\"//*[@id=\"blog_input_period_end\"]\"\"\")\n",
    "driver.find_element_by_xpath(\"\"\"//*[@id=\"blog_input_period_end\"]\"\"\").click()\n",
    "e_date.clear()\n",
    "time.sleep(1)\n",
    "\n",
    "for c in end_date:\n",
    "    e_date.send_keys(c)\n",
    "    time.sleep(0.1)\n",
    "\n",
    "driver.find_element_by_class_name('tx').click()\n",
    "time.sleep(3)\n",
    "    \n",
    "driver.find_element_by_xpath(\"\"\"//*[@id=\"snb\"]/div/ul/li[1]\"\"\").click()\n",
    "driver.find_element_by_xpath(\"\"\"//*[@id=\"snb\"]/div/ul/li[1]/div/ul/li[1]/a\"\"\").click()\n",
    "time.sleep(1)\n",
    "    \n",
    "    \n",
    "url_list = []\n",
    "title_list = []\n",
    "\n",
    "# 몇개의 페이지를 크롤링 할지 선택\n",
    "\n",
    "total_page = 1\n",
    "for j in tqdm(list(data['영화명'])[0:1]) : \n",
    "    for i in tqdm(range(total_page)) : # 페이지 번호\n",
    "        i = i * 1 \n",
    "        url = \"https://search.naver.com/search.naver?date_from={0}&date_option=8&date_to={1}&dup_remove=1&nso=p%3Afrom{2}to{3}&post_blogurl=&post_blogurl_without=&query=영화%20{4}&sm=tab_pge&srchby=all&st=sim&where=post&start={5}\".format(start_date,end_date,start_date,end_date, j, i)\n",
    "   \n",
    "        driver.get(url)\n",
    "        time.sleep(0.5)\n",
    "        \n",
    " # URL 크롤링 시작\n",
    "    titles = \"a.sh_blog_title._sp_each_url._sp_each_title\"\n",
    "    moive_raw = driver.find_elements_by_css_selector(titles)\n",
    "\n",
    "    # url 크롤링 시작    \n",
    "    for movie in moive_raw:\n",
    "        url = movie.get_attribute('href')   \n",
    "        url_list.append(url)\n",
    "    \n",
    "     # 제목 크롤링 시작    \n",
    "for i in list(data['영화명']) :\n",
    "    for j in range(1, 11) :\n",
    "        title_list.append(i)\n",
    "\n",
    "\n",
    "print('url갯수: ', len(url_list))\n",
    "print('title갯수: ', len(title_list))\n",
    "\n",
    "\n",
    "\n",
    "df = pd.DataFrame({'url':url_list, 'title':title_list[:10]})\n",
    "\n",
    "# 저장하기\n",
    "df.to_excel(\"blog_url.xlsx\")\n",
    "\n",
    "\n",
    "url_load = pd.read_excel(\"blog_url.xlsx\", index_col=0)        # 기본 모델\n",
    "num_list = len(url_load)\n",
    "number = 10\n",
    "    \n",
    "# 내용 크롤링 시작\n",
    "content_list = []\n",
    "for i in tqdm(range(0, number)) : \n",
    "    # 글 띄우기\n",
    "    url = url_load['url'][i]\n",
    "    driver = webdriver.Chrome(\"chromedriver.exe\")\n",
    "    driver.get(url)   # 글 띄우기\n",
    "    \n",
    "     # 내용 크롤링\n",
    "    target_info = {}\n",
    "    overlays = \".se-component.se-text.se-l-default\"                                 \n",
    "    contents = driver.find_elements_by_css_selector(overlays)         # date\n",
    "    content_str = ' '.join(content_list)\n",
    "        \n",
    "    for content in contents:\n",
    "         content_list.append(content.text)\n",
    "    content_str = ' '.join(content_list)\n",
    "    \n",
    "    target_info['content'] = content_str\n",
    "\n",
    "     # 글 하나 크롤링 후 크롬 창 닫기\n",
    "    driver.close()       \n",
    "    \n",
    "\n",
    "target_info        \n",
    "#df = pd.DataFrame({'url':url_list, 'title':title_list[:10], 'content':content_list})"
   ]
  },
  {
   "cell_type": "markdown",
   "metadata": {},
   "source": [
    "# 리뷰 크롤링"
   ]
  },
  {
   "cell_type": "code",
   "execution_count": 9,
   "metadata": {},
   "outputs": [
    {
     "data": {
      "text/html": [
       "<div>\n",
       "<style scoped>\n",
       "    .dataframe tbody tr th:only-of-type {\n",
       "        vertical-align: middle;\n",
       "    }\n",
       "\n",
       "    .dataframe tbody tr th {\n",
       "        vertical-align: top;\n",
       "    }\n",
       "\n",
       "    .dataframe thead th {\n",
       "        text-align: right;\n",
       "    }\n",
       "</style>\n",
       "<table border=\"1\" class=\"dataframe\">\n",
       "  <thead>\n",
       "    <tr style=\"text-align: right;\">\n",
       "      <th></th>\n",
       "      <th>url</th>\n",
       "      <th>title</th>\n",
       "    </tr>\n",
       "  </thead>\n",
       "  <tbody>\n",
       "    <tr>\n",
       "      <th>0</th>\n",
       "      <td>https://blog.naver.com/antaregu?Redirect=Log&amp;l...</td>\n",
       "      <td>카오산 탱고</td>\n",
       "    </tr>\n",
       "    <tr>\n",
       "      <th>1</th>\n",
       "      <td>https://blog.naver.com/cinemaplus?Redirect=Log...</td>\n",
       "      <td>카오산 탱고</td>\n",
       "    </tr>\n",
       "    <tr>\n",
       "      <th>2</th>\n",
       "      <td>https://blog.naver.com/ahnaa?Redirect=Log&amp;logN...</td>\n",
       "      <td>카오산 탱고</td>\n",
       "    </tr>\n",
       "    <tr>\n",
       "      <th>3</th>\n",
       "      <td>https://blog.naver.com/kkcine?Redirect=Log&amp;log...</td>\n",
       "      <td>카오산 탱고</td>\n",
       "    </tr>\n",
       "    <tr>\n",
       "      <th>4</th>\n",
       "      <td>https://blog.naver.com/actorpia?Redirect=Log&amp;l...</td>\n",
       "      <td>카오산 탱고</td>\n",
       "    </tr>\n",
       "    <tr>\n",
       "      <th>5</th>\n",
       "      <td>https://blog.naver.com/boss4388?Redirect=Log&amp;l...</td>\n",
       "      <td>카오산 탱고</td>\n",
       "    </tr>\n",
       "    <tr>\n",
       "      <th>6</th>\n",
       "      <td>https://pslove1207.blog.me/221269318767</td>\n",
       "      <td>카오산 탱고</td>\n",
       "    </tr>\n",
       "    <tr>\n",
       "      <th>7</th>\n",
       "      <td>https://blog.naver.com/cathy5320?Redirect=Log&amp;...</td>\n",
       "      <td>카오산 탱고</td>\n",
       "    </tr>\n",
       "    <tr>\n",
       "      <th>8</th>\n",
       "      <td>https://blog.naver.com/kimgahyun-87?Redirect=L...</td>\n",
       "      <td>카오산 탱고</td>\n",
       "    </tr>\n",
       "    <tr>\n",
       "      <th>9</th>\n",
       "      <td>https://blog.naver.com/mylucky1029?Redirect=Lo...</td>\n",
       "      <td>카오산 탱고</td>\n",
       "    </tr>\n",
       "  </tbody>\n",
       "</table>\n",
       "</div>"
      ],
      "text/plain": [
       "                                                 url   title\n",
       "0  https://blog.naver.com/antaregu?Redirect=Log&l...  카오산 탱고\n",
       "1  https://blog.naver.com/cinemaplus?Redirect=Log...  카오산 탱고\n",
       "2  https://blog.naver.com/ahnaa?Redirect=Log&logN...  카오산 탱고\n",
       "3  https://blog.naver.com/kkcine?Redirect=Log&log...  카오산 탱고\n",
       "4  https://blog.naver.com/actorpia?Redirect=Log&l...  카오산 탱고\n",
       "5  https://blog.naver.com/boss4388?Redirect=Log&l...  카오산 탱고\n",
       "6            https://pslove1207.blog.me/221269318767  카오산 탱고\n",
       "7  https://blog.naver.com/cathy5320?Redirect=Log&...  카오산 탱고\n",
       "8  https://blog.naver.com/kimgahyun-87?Redirect=L...  카오산 탱고\n",
       "9  https://blog.naver.com/mylucky1029?Redirect=Lo...  카오산 탱고"
      ]
     },
     "execution_count": 9,
     "metadata": {},
     "output_type": "execute_result"
    }
   ],
   "source": [
    "df"
   ]
  },
  {
   "cell_type": "code",
   "execution_count": 274,
   "metadata": {},
   "outputs": [
    {
     "name": "stdout",
     "output_type": "stream",
     "text": [
      "10\n"
     ]
    },
    {
     "data": {
      "application/vnd.jupyter.widget-view+json": {
       "model_id": "e026b3c462204b5ca2b9e3a90b318131",
       "version_major": 2,
       "version_minor": 0
      },
      "text/plain": [
       "HBox(children=(FloatProgress(value=0.0, max=10.0), HTML(value='')))"
      ]
     },
     "metadata": {},
     "output_type": "display_data"
    },
    {
     "name": "stderr",
     "output_type": "stream",
     "text": [
      "C:\\Anaconda3\\lib\\site-packages\\ipykernel_launcher.py:22: DeprecationWarning: use driver.switch_to.frame instead\n"
     ]
    },
    {
     "name": "stdout",
     "output_type": "stream",
     "text": [
      "0 카오산 탱고,2020\n",
      "1 카오산 탱고,2020\n",
      "2 카오산 탱고,2020\n",
      "3 카오산 탱고,2020\n",
      "4 카오산 탱고,2020\n",
      "5 카오산 탱고,2020\n",
      "6 카오산 탱고,2020\n",
      "7 카오산 탱고,2020\n",
      "8 카오산 탱고,2020\n",
      "9 카오산 탱고,2020\n",
      "\n",
      "수집한 글 갯수:  11\n",
      "{'고': {'title': '고', 'content': '갑작스레 코로나가 창궐하여 끝을 알 수 없는 코비드19 시대가.\\n계속되고 있다.\\n더운 날씨에도 마스크를 달고 사는 것이 의무가 되어 버렸다.\\n여러모로 불편하고 막막한 일들이 생겨버렸다.\\n뭐 어쩌겠는가...\\n하지만 그래도 기차는 달려야 하지 않나~\\n예전에 즐겁게, 우여곡절 끝에 만들었던 독립영화 \"카오산 탱고\"가 개봉을 한다고 한다.\\n개봉하기까지 감독이 애를 많이 썼다.\\n물론 난 감독에게 이런저런 잔소리를 쏟아 냈다.\\n꿋꿋하게 웃으며 나의 잔소리를 빨아들이던 감독의 모습이 선하다.\\n태국에 여러 번 갔었지만\\n그래도 김감독덕에 오랜 시간 태국에 머물 렀다.\\n늦었지만 이렇게라도 고맙다는 말을 전한다.\\n일도 하고 중간중간 즐거운 시간을 보네고 경험했던 \\n기억들 떠오른다.\\n우연히 만났던 좋은 사람들,\\n물총난리,\\n노곤한 발 마사지,\\n거리의 흥겨운 음악,\\n달콤한 과일,\\n내가 좋아하는 소소한 음식들, \\n혼자 떠나는 여행 등등..\\n그 당시엔 모르지만 지나고 나면 찬란한 법이다.\\n다들 해외여행도 가지 못하는데 이 영화 보며 잠깐 이나마 \\n카오산에 다녀오길 바란다.\\n물론 사회적 거리 두기이니 꼭 극장에서 보란 말은 못 하겠다.\\n감독은 아쉬워하겠지만...\\n각자 여력 것 챙겨 봤으면 하는 마음이다.\\n태국은 참 아름답고 신비한 나라다. '}, 0: {'content': ''}, 1: {'content': ''}, 2: {'content': ''}, 3: {'content': ''}, 4: {'content': ''}, 5: {'content': ''}, 6: {'content': ''}, 7: {'content': ''}, 8: {'content': ''}, 9: {'content': ''}}\n"
     ]
    }
   ],
   "source": [
    "# 여기서부터 리뷰 크롤링\n",
    "\n",
    "url_load = pd.read_excel(\"blog_url.xlsx\", index_col=0)        # 기본 모델\n",
    "\n",
    "num_list = len(url_load)\n",
    "\n",
    "print(num_list)\n",
    "\n",
    "\n",
    "# ★수집할 글 갯수\n",
    "#number = url_list\n",
    "for i in tqdm(range(0, num_list)) : \n",
    "    # 글 띄우기\n",
    "    url = url_load['url'][i]\n",
    "    driver = webdriver.Chrome(\"chromedriver.exe\")\n",
    "    driver.get(url)   # 글 띄우기\n",
    "    \n",
    "    # 크롤링\n",
    "    \n",
    "\n",
    "     # iframe 접근\n",
    "    driver.switch_to_frame('mainFrame')\n",
    "\n",
    "    # 내용 크롤링\n",
    "    overlays = \".se-component.se-text.se-l-default\"                                 \n",
    "    contents = driver.find_elements_by_css_selector(overlays)         # date\n",
    "\n",
    "    content_list = []\n",
    "    for content in contents:\n",
    "        content_list.append(content.text)\n",
    "\n",
    "    content_str = ' '.join(content_list)\n",
    "\n",
    "    # 글 하나는 target_info라는 딕셔너리에 담기게 되고,\n",
    "    target_info['content'] = content_str\n",
    "\n",
    "        # 각각의 글은 dict라는 딕셔너리에 담기게 됩니다.\n",
    "    dict[i] = target_info\n",
    "    time.sleep(1)\n",
    "        \n",
    "    print(i, title)\n",
    "\n",
    "        # 글 하나 크롤링 후 크롬 창 닫기\n",
    "    driver.close()       \n",
    "    \n",
    "    \n",
    "    # 중간,중간에 파일로 저장하기\n",
    "#     if i == 30 or 50 or 80:\n",
    "#         # 판다스로 만들기\n",
    "#         import pandas as pd\n",
    "#         result_df = pd.DataFrame.from_dict(dict, 'index')\n",
    "\n",
    "#         # 저장하기\n",
    "#         result_df.to_excel(\"blog_content_movie.xlsx\")\n",
    "#         time.sleep(3)\n",
    "\n",
    "print('수집한 글 갯수: ', len(dict))\n",
    "print(dict)\n",
    "\n",
    "# # 판다스로 만들기\n",
    "# import pandas as pd\n",
    "# result_df = pd.DataFrame.from_dict(dict, 'index')\n",
    "\n",
    "# result_df.to_excel(\"blog_content_movie.xlsx\")\n",
    "# df2 = pd.read_excel('blog_content_movie.xlsx', index_col=0)"
   ]
  },
  {
   "cell_type": "code",
   "execution_count": 271,
   "metadata": {},
   "outputs": [
    {
     "data": {
      "text/html": [
       "<div>\n",
       "<style scoped>\n",
       "    .dataframe tbody tr th:only-of-type {\n",
       "        vertical-align: middle;\n",
       "    }\n",
       "\n",
       "    .dataframe tbody tr th {\n",
       "        vertical-align: top;\n",
       "    }\n",
       "\n",
       "    .dataframe thead th {\n",
       "        text-align: right;\n",
       "    }\n",
       "</style>\n",
       "<table border=\"1\" class=\"dataframe\">\n",
       "  <thead>\n",
       "    <tr style=\"text-align: right;\">\n",
       "      <th></th>\n",
       "      <th>title</th>\n",
       "      <th>content</th>\n",
       "    </tr>\n",
       "  </thead>\n",
       "  <tbody>\n",
       "    <tr>\n",
       "      <th>고</th>\n",
       "      <td>고</td>\n",
       "      <td>갑작스레 코로나가 창궐하여 끝을 알 수 없는 코비드19 시대가.\\n계속되고 있다.\\...</td>\n",
       "    </tr>\n",
       "  </tbody>\n",
       "</table>\n",
       "</div>"
      ],
      "text/plain": [
       "  title                                            content\n",
       "고     고  갑작스레 코로나가 창궐하여 끝을 알 수 없는 코비드19 시대가.\\n계속되고 있다.\\..."
      ]
     },
     "execution_count": 271,
     "metadata": {},
     "output_type": "execute_result"
    }
   ],
   "source": [
    "df2"
   ]
  },
  {
   "cell_type": "code",
   "execution_count": 62,
   "metadata": {},
   "outputs": [
    {
     "data": {
      "text/plain": [
       "True"
      ]
     },
     "execution_count": 62,
     "metadata": {},
     "output_type": "execute_result"
    }
   ],
   "source": [
    "a = ['b', 'c']\n",
    "'b' in a"
   ]
  },
  {
   "cell_type": "code",
   "execution_count": 64,
   "metadata": {},
   "outputs": [
    {
     "data": {
      "text/plain": [
       "True"
      ]
     },
     "execution_count": 64,
     "metadata": {},
     "output_type": "execute_result"
    }
   ],
   "source": [
    "a = '[영화] 해외 여행이 위험한 \"우한 코로나\" 의 시대....  그리운 태국 여행 대신에, 올 여름 보고 싶은 영화, \"카오산 탱고\"_20200709'\n",
    "\n",
    "'카오산 탱고' in a"
   ]
  },
  {
   "cell_type": "code",
   "execution_count": 243,
   "metadata": {},
   "outputs": [],
   "source": [
    "moive_raw2 = []"
   ]
  },
  {
   "cell_type": "code",
   "execution_count": 244,
   "metadata": {},
   "outputs": [],
   "source": [
    "for i in list(data['영화명']) :\n",
    "    for j in range(1, 11) :\n",
    "        moive_raw2.append(i)"
   ]
  },
  {
   "cell_type": "code",
   "execution_count": 254,
   "metadata": {},
   "outputs": [
    {
     "data": {
      "text/plain": [
       "20"
      ]
     },
     "execution_count": 254,
     "metadata": {},
     "output_type": "execute_result"
    }
   ],
   "source": [
    "len(moive_raw2[:20])"
   ]
  }
 ],
 "metadata": {
  "hide_input": false,
  "kernelspec": {
   "display_name": "Python 3",
   "language": "python",
   "name": "python3"
  },
  "language_info": {
   "codemirror_mode": {
    "name": "ipython",
    "version": 3
   },
   "file_extension": ".py",
   "mimetype": "text/x-python",
   "name": "python",
   "nbconvert_exporter": "python",
   "pygments_lexer": "ipython3",
   "version": "3.7.6"
  }
 },
 "nbformat": 4,
 "nbformat_minor": 4
}
