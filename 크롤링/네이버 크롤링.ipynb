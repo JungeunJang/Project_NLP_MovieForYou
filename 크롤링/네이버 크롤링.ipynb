{
 "cells": [
  {
   "cell_type": "code",
   "execution_count": 1,
   "metadata": {},
   "outputs": [],
   "source": [
    "from selenium import webdriver\n",
    "import time\n",
    "import pandas as pd\n",
    "from tqdm.notebook import tqdm\n",
    "from selenium.common.exceptions import NoSuchElementException, ElementNotInteractableException\n",
    "from selenium import webdriver"
   ]
  },
  {
   "cell_type": "code",
   "execution_count": 2,
   "metadata": {},
   "outputs": [],
   "source": [
    "options = webdriver.ChromeOptions()\n",
    "options.add_argument('headless')    # 웹 브라우저를 띄우지 않는 headless chrome 옵션 적용\n",
    "options.add_argument('disable-gpu')    # GPU 사용 안함\n",
    "options.add_argument('lang=ko_KR')    # 언어 설정, options=options"
   ]
  },
  {
   "cell_type": "code",
   "execution_count": 13,
   "metadata": {
    "scrolled": true
   },
   "outputs": [
    {
     "data": {
      "application/vnd.jupyter.widget-view+json": {
       "model_id": "6ec5f0d065164a9985995fe99b163af1",
       "version_major": 2,
       "version_minor": 0
      },
      "text/plain": [
       "HBox(children=(FloatProgress(value=0.0, max=2.0), HTML(value='')))"
      ]
     },
     "metadata": {},
     "output_type": "display_data"
    },
    {
     "data": {
      "application/vnd.jupyter.widget-view+json": {
       "model_id": "f37adb9d998943e6a2e2c3fd34e145ab",
       "version_major": 2,
       "version_minor": 0
      },
      "text/plain": [
       "HBox(children=(FloatProgress(value=0.0, max=20.0), HTML(value='')))"
      ]
     },
     "metadata": {},
     "output_type": "display_data"
    },
    {
     "name": "stdout",
     "output_type": "stream",
     "text": [
      "\n"
     ]
    },
    {
     "data": {
      "application/vnd.jupyter.widget-view+json": {
       "model_id": "d9afda4b65bc4f79a2c6c2faf1a12ffb",
       "version_major": 2,
       "version_minor": 0
      },
      "text/plain": [
       "HBox(children=(FloatProgress(value=0.0, max=5.0), HTML(value='')))"
      ]
     },
     "metadata": {},
     "output_type": "display_data"
    },
    {
     "name": "stdout",
     "output_type": "stream",
     "text": [
      "\n",
      "\n"
     ]
    }
   ],
   "source": [
    "driver = webdriver.Chrome('chromedriver', options=options)\n",
    "year = []\n",
    "name = []\n",
    "reviewcontext = []\n",
    "for i in tqdm(range(0, 20)) : #페이지수\n",
    "    url = \"https://movie.naver.com/movie/sdb/browsing/bmovie.nhn?open=2003&page=%d\"%(i+1) #페이지 넘기기\n",
    "    driver.get(url)\n",
    "    y = driver.find_elements_by_xpath('//*[@id=\"old_content\"]/ul/li')\n",
    "    for j in tqdm(range(0,len(y))):  #0,20\n",
    "        try :\n",
    "            driver.find_element_by_xpath('//*[@id=\"old_content\"]/ul/li[%d]/a'%(j+1)).click() #영화 선택\n",
    "            time.sleep(0.5)\n",
    "            driver.find_element_by_xpath('//*[@id=\"movieEndTabMenu\"]/li/a[@class=\"tab06 off\"]').click() #리뷰 메뉴 선택\n",
    "            time.sleep(0.5)\n",
    "            x = driver.find_elements_by_xpath('//*[@id=\"reviewTab\"]/div/div/ul/li') #리뷰 메뉴 개수\n",
    "            for k in range(0,len(x)) :\n",
    "                if len(x) == 0 :\n",
    "                    pass\n",
    "                try :\n",
    "                    driver.find_element_by_xpath('//*[@id=\"reviewTab\"]/div/div/ul/li[%d]/a'%(k+1)).click() #리뷰탭\n",
    "                except ElementNotInteractableException :\n",
    "                    driver.get(url)\n",
    "                time.sleep(0.5)\n",
    "                a = driver.find_element_by_xpath('//*[@id=\"content\"]/div/div[2]/div[1]/h3/a').text #영화이름\n",
    "                c = driver.find_element_by_xpath('//*[@id=\"content\"]/div[1]/div[4]/div[1]/div[4]').text #리뷰내용\n",
    "                name.append(a)\n",
    "                c = c.replace('\\n', '')\n",
    "                reviewcontext.append(c)\n",
    "                time.sleep(0.5)\n",
    "                driver.back()\n",
    "        except NoSuchElementException :\n",
    "            driver.get(url)\n",
    "\n",
    "        "
   ]
  },
  {
   "cell_type": "code",
   "execution_count": 18,
   "metadata": {},
   "outputs": [],
   "source": [
    "movie2003 = pd.DataFrame(columns = ['year', 'name', 'reviewcontext'])\n",
    "movie2003['name'] = name\n",
    "movie2003['reviewcontext'] = reviewcontext\n",
    "movie2003['year'] = 2003"
   ]
  },
  {
   "cell_type": "code",
   "execution_count": 30,
   "metadata": {},
   "outputs": [
    {
     "data": {
      "text/html": [
       "<div>\n",
       "<style scoped>\n",
       "    .dataframe tbody tr th:only-of-type {\n",
       "        vertical-align: middle;\n",
       "    }\n",
       "\n",
       "    .dataframe tbody tr th {\n",
       "        vertical-align: top;\n",
       "    }\n",
       "\n",
       "    .dataframe thead th {\n",
       "        text-align: right;\n",
       "    }\n",
       "</style>\n",
       "<table border=\"1\" class=\"dataframe\">\n",
       "  <thead>\n",
       "    <tr style=\"text-align: right;\">\n",
       "      <th></th>\n",
       "      <th>year</th>\n",
       "      <th>name</th>\n",
       "      <th>reviewcontext</th>\n",
       "    </tr>\n",
       "  </thead>\n",
       "  <tbody>\n",
       "    <tr>\n",
       "      <th>0</th>\n",
       "      <td>2003</td>\n",
       "      <td>프리다</td>\n",
       "      <td>프리다! 정말 대단한 여성이란 생각을 들게 하는 군요! 교통 사고로 32번이란 수술...</td>\n",
       "    </tr>\n",
       "    <tr>\n",
       "      <th>1</th>\n",
       "      <td>2003</td>\n",
       "      <td>프리다</td>\n",
       "      <td>이 영화 어디에도 내가 아는 프리다 칼로는 없다. 굳이 찾자면 이름과 눈썹이랄까. ...</td>\n",
       "    </tr>\n",
       "    <tr>\n",
       "      <th>2</th>\n",
       "      <td>2003</td>\n",
       "      <td>프리다</td>\n",
       "      <td>전날 잠을 못 잔 덕이기도 하지만 영화를 보면서 끊임없이 시계를 들여다보고 무식하게...</td>\n",
       "    </tr>\n",
       "    <tr>\n",
       "      <th>3</th>\n",
       "      <td>2003</td>\n",
       "      <td>프리다</td>\n",
       "      <td>원래 나는 미술쪽에 관심이 있었다. 얼마만큼의 프리다 인생을 알고있었고 그 소문을 ...</td>\n",
       "    </tr>\n",
       "    <tr>\n",
       "      <th>4</th>\n",
       "      <td>2003</td>\n",
       "      <td>프리다</td>\n",
       "      <td>개봉을 손꼽아 기다리던 영화를 먼저 보는 것은 기분 좋은 일이다. 리뷰도, 네티즌 ...</td>\n",
       "    </tr>\n",
       "    <tr>\n",
       "      <th>...</th>\n",
       "      <td>...</td>\n",
       "      <td>...</td>\n",
       "      <td>...</td>\n",
       "    </tr>\n",
       "    <tr>\n",
       "      <th>80</th>\n",
       "      <td>2003</td>\n",
       "      <td>히 러브스 미</td>\n",
       "      <td>난 개인적으로 반전이 있는 영화가 좋은데... 반전이 엄청나게 좋았어요~!!! 하지...</td>\n",
       "    </tr>\n",
       "    <tr>\n",
       "      <th>81</th>\n",
       "      <td>2003</td>\n",
       "      <td>히 러브스 미</td>\n",
       "      <td>처음엔 그냥 단순한 아멜리에같은 로멘틱한 영화겠거니하고 봤는데 중간부터 반전을 보면...</td>\n",
       "    </tr>\n",
       "    <tr>\n",
       "      <th>82</th>\n",
       "      <td>2003</td>\n",
       "      <td>히 러브스 미</td>\n",
       "      <td>히 러브스 미 [ 내가프랑스영화를보면서첫번째로좋아하게된프랑스배우토투 ] date: ...</td>\n",
       "    </tr>\n",
       "    <tr>\n",
       "      <th>83</th>\n",
       "      <td>2003</td>\n",
       "      <td>히 러브스 미</td>\n",
       "      <td>사랑스런 \"아멜리에\"를 기억하는 분들이 있으실 겁니다. 그 아멜리에의 또뚜가 주연한...</td>\n",
       "    </tr>\n",
       "    <tr>\n",
       "      <th>84</th>\n",
       "      <td>2003</td>\n",
       "      <td>히 러브스 미</td>\n",
       "      <td>영화 중,  \"비록 나의 사랑이 병적이지만,나의 이성은 내 마음 속 고통을 평온하게...</td>\n",
       "    </tr>\n",
       "  </tbody>\n",
       "</table>\n",
       "<p>85 rows × 3 columns</p>\n",
       "</div>"
      ],
      "text/plain": [
       "    year     name                                      reviewcontext\n",
       "0   2003      프리다  프리다! 정말 대단한 여성이란 생각을 들게 하는 군요! 교통 사고로 32번이란 수술...\n",
       "1   2003      프리다  이 영화 어디에도 내가 아는 프리다 칼로는 없다. 굳이 찾자면 이름과 눈썹이랄까. ...\n",
       "2   2003      프리다  전날 잠을 못 잔 덕이기도 하지만 영화를 보면서 끊임없이 시계를 들여다보고 무식하게...\n",
       "3   2003      프리다  원래 나는 미술쪽에 관심이 있었다. 얼마만큼의 프리다 인생을 알고있었고 그 소문을 ...\n",
       "4   2003      프리다  개봉을 손꼽아 기다리던 영화를 먼저 보는 것은 기분 좋은 일이다. 리뷰도, 네티즌 ...\n",
       "..   ...      ...                                                ...\n",
       "80  2003  히 러브스 미  난 개인적으로 반전이 있는 영화가 좋은데... 반전이 엄청나게 좋았어요~!!! 하지...\n",
       "81  2003  히 러브스 미  처음엔 그냥 단순한 아멜리에같은 로멘틱한 영화겠거니하고 봤는데 중간부터 반전을 보면...\n",
       "82  2003  히 러브스 미  히 러브스 미 [ 내가프랑스영화를보면서첫번째로좋아하게된프랑스배우토투 ] date: ...\n",
       "83  2003  히 러브스 미  사랑스런 \"아멜리에\"를 기억하는 분들이 있으실 겁니다. 그 아멜리에의 또뚜가 주연한...\n",
       "84  2003  히 러브스 미  영화 중,  \"비록 나의 사랑이 병적이지만,나의 이성은 내 마음 속 고통을 평온하게...\n",
       "\n",
       "[85 rows x 3 columns]"
      ]
     },
     "execution_count": 30,
     "metadata": {},
     "output_type": "execute_result"
    }
   ],
   "source": [
    "movie2003"
   ]
  },
  {
   "cell_type": "code",
   "execution_count": 29,
   "metadata": {},
   "outputs": [],
   "source": [
    "movie2019.to_csv('movie2019.csv', encoding='utf-8-sig', index = False)"
   ]
  }
 ],
 "metadata": {
  "kernelspec": {
   "display_name": "Python 3",
   "language": "python",
   "name": "python3"
  },
  "language_info": {
   "codemirror_mode": {
    "name": "ipython",
    "version": 3
   },
   "file_extension": ".py",
   "mimetype": "text/x-python",
   "name": "python",
   "nbconvert_exporter": "python",
   "pygments_lexer": "ipython3",
   "version": "3.7.6"
  }
 },
 "nbformat": 4,
 "nbformat_minor": 4
}
